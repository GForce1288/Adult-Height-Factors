{
    "cells": [
        {
            "metadata": {},
            "cell_type": "code",
            "source": "#Coursera - Applied Data Science Capstone Project\n#Topic: What determines an adult's physical height?\n\n#import libraries\nimport numpy as np\nimport pandas as pd\nimport urllib.request # import the library we use to open URLs\nimport requests # library to handle requests\nfrom bs4 import BeautifulSoup # import the BeautifulSoup library so we can parse HTML and XML documents",
            "execution_count": 1,
            "outputs": []
        },
        {
            "metadata": {},
            "cell_type": "code",
            "source": "#First, find the top 10 tallest and top 10 shortest countries via aggregating and averaging multiple data sources - men and women\nurl= \"http://www.averageheight.co/average-male-height-by-country\"\npage=urllib.request.urlopen(url)\nsoup= BeautifulSoup(page, \"lxml\")# parse the HTML from our URL into the BeautifulSoup parse tree format\ntable= soup.find_all('table')[0] # Grab the first table",
            "execution_count": 2,
            "outputs": []
        },
        {
            "metadata": {},
            "cell_type": "code",
            "source": "def tableDataText(table):    \n    \"\"\"Parses a html segment started with tag <table> followed \n    by multiple <tr> (table rows) and inner <td> (table data) tags. \n    It returns a list of rows with inner columns. \n    Accepts only one <th> (table header/data) in the first row.\n    \"\"\"\n    def rowgetDataText(tr, coltag='td'): # td (data) or th (header)       \n        return [td.get_text(strip=True) for td in tr.find_all(coltag)]  \n    rows = []\n    trs = table.find_all('tr')\n    headerow = rowgetDataText(trs[0], 'th')\n    if headerow: # if there is a header row include first\n        rows.append(headerow)\n        trs = trs[1:]\n    for tr in trs: # for every table row\n        rows.append(rowgetDataText(tr, 'td') ) # data row       \n    return rows",
            "execution_count": 3,
            "outputs": []
        },
        {
            "metadata": {},
            "cell_type": "code",
            "source": "htmltable = soup.find('table', { 'class' : 'display' })\nlist_table = tableDataText(htmltable)\nlist_table[:2]\ndf_AvgHeightCo = pd.DataFrame(list_table[1:], columns=list_table[0]) #dataframe for URL: averageheight.co",
            "execution_count": 4,
            "outputs": []
        },
        {
            "metadata": {},
            "cell_type": "code",
            "source": "df_AvgHeightCo[\"Height (in)\"]=\"\" #add column for height in inches",
            "execution_count": 5,
            "outputs": []
        },
        {
            "metadata": {},
            "cell_type": "code",
            "source": "df_AvgHeightCo[\"Height (m)\"]=df_AvgHeightCo[\"Height (m)\"].astype(float) #convert objects in column to float\ndf_AvgHeightCo[\"Height (in)\"]=39.37007874*df_AvgHeightCo[\"Height (m)\"] #39.37007874 inches in 1 meter - convert to inches since it is a US study",
            "execution_count": 6,
            "outputs": []
        },
        {
            "metadata": {},
            "cell_type": "code",
            "source": "df_AvgHeightCo.head()",
            "execution_count": 7,
            "outputs": [
                {
                    "output_type": "execute_result",
                    "execution_count": 7,
                    "data": {
                        "text/plain": "     Country      Continent  Height (m) Height (ft)  Height (in)\n0    Albania         Europe       1.740     5' 8.5\"    68.503937\n1    Algeria         Africa       1.722    5' 7.75\"    67.795276\n2  Argentina  South America       1.745     5' 8.5\"    68.700787\n3  Australia        Oceania       1.756       5' 9\"    69.133858\n4    Austria         Europe       1.792     5'10.5\"    70.551181",
                        "text/html": "<div>\n<style scoped>\n    .dataframe tbody tr th:only-of-type {\n        vertical-align: middle;\n    }\n\n    .dataframe tbody tr th {\n        vertical-align: top;\n    }\n\n    .dataframe thead th {\n        text-align: right;\n    }\n</style>\n<table border=\"1\" class=\"dataframe\">\n  <thead>\n    <tr style=\"text-align: right;\">\n      <th></th>\n      <th>Country</th>\n      <th>Continent</th>\n      <th>Height (m)</th>\n      <th>Height (ft)</th>\n      <th>Height (in)</th>\n    </tr>\n  </thead>\n  <tbody>\n    <tr>\n      <th>0</th>\n      <td>Albania</td>\n      <td>Europe</td>\n      <td>1.740</td>\n      <td>5' 8.5\"</td>\n      <td>68.503937</td>\n    </tr>\n    <tr>\n      <th>1</th>\n      <td>Algeria</td>\n      <td>Africa</td>\n      <td>1.722</td>\n      <td>5' 7.75\"</td>\n      <td>67.795276</td>\n    </tr>\n    <tr>\n      <th>2</th>\n      <td>Argentina</td>\n      <td>South America</td>\n      <td>1.745</td>\n      <td>5' 8.5\"</td>\n      <td>68.700787</td>\n    </tr>\n    <tr>\n      <th>3</th>\n      <td>Australia</td>\n      <td>Oceania</td>\n      <td>1.756</td>\n      <td>5' 9\"</td>\n      <td>69.133858</td>\n    </tr>\n    <tr>\n      <th>4</th>\n      <td>Austria</td>\n      <td>Europe</td>\n      <td>1.792</td>\n      <td>5'10.5\"</td>\n      <td>70.551181</td>\n    </tr>\n  </tbody>\n</table>\n</div>"
                    },
                    "metadata": {}
                }
            ]
        },
        {
            "metadata": {},
            "cell_type": "code",
            "source": "df_AvgHeightCo=df_AvgHeightCo.drop(['Continent','Height (m)','Height (ft)'], axis=1) #drop columns that provide no valuable insight to the study",
            "execution_count": 8,
            "outputs": []
        },
        {
            "metadata": {},
            "cell_type": "code",
            "source": "decimals = 2    \ndf_AvgHeightCo['Height (in)'] = df_AvgHeightCo['Height (in)'].apply(lambda x: round(x, decimals)) #round the decimals in height (in)\ndf_AvgHeightCo.head() #dataframe 1 on average country height complete - now to compile other dataframes",
            "execution_count": 9,
            "outputs": [
                {
                    "output_type": "execute_result",
                    "execution_count": 9,
                    "data": {
                        "text/plain": "     Country  Height (in)\n0    Albania        68.50\n1    Algeria        67.80\n2  Argentina        68.70\n3  Australia        69.13\n4    Austria        70.55",
                        "text/html": "<div>\n<style scoped>\n    .dataframe tbody tr th:only-of-type {\n        vertical-align: middle;\n    }\n\n    .dataframe tbody tr th {\n        vertical-align: top;\n    }\n\n    .dataframe thead th {\n        text-align: right;\n    }\n</style>\n<table border=\"1\" class=\"dataframe\">\n  <thead>\n    <tr style=\"text-align: right;\">\n      <th></th>\n      <th>Country</th>\n      <th>Height (in)</th>\n    </tr>\n  </thead>\n  <tbody>\n    <tr>\n      <th>0</th>\n      <td>Albania</td>\n      <td>68.50</td>\n    </tr>\n    <tr>\n      <th>1</th>\n      <td>Algeria</td>\n      <td>67.80</td>\n    </tr>\n    <tr>\n      <th>2</th>\n      <td>Argentina</td>\n      <td>68.70</td>\n    </tr>\n    <tr>\n      <th>3</th>\n      <td>Australia</td>\n      <td>69.13</td>\n    </tr>\n    <tr>\n      <th>4</th>\n      <td>Austria</td>\n      <td>70.55</td>\n    </tr>\n  </tbody>\n</table>\n</div>"
                    },
                    "metadata": {}
                }
            ]
        },
        {
            "metadata": {},
            "cell_type": "code",
            "source": "url2 = \"http://www.ncdrisc.org/downloads/height/NCD_RisC_eLife_2016_height_age18_countries.csv\"\ndf=pd.read_csv(url2)",
            "execution_count": 10,
            "outputs": []
        },
        {
            "metadata": {},
            "cell_type": "code",
            "source": "array= ['1996']\ndf_1996 = df.loc[df['Year of birth'].isin(array)]\ndf_men = df_1996.loc[df['Sex'] == 'Men']",
            "execution_count": 11,
            "outputs": []
        },
        {
            "metadata": {},
            "cell_type": "code",
            "source": "df2=df_men.drop(['ISO','Mean height lower 95% uncertainty interval (cm)', \"Mean height upper 95% uncertainty interval (cm)\"], axis=1) \ndf3=df2.drop(['Sex','Year of birth'], axis=1)",
            "execution_count": 12,
            "outputs": []
        },
        {
            "metadata": {},
            "cell_type": "code",
            "source": "df3[\"Height (in)\"]=\"\"\ndf3[\"Height (in)\"]=0.3937007874*df3[\"Mean height (cm)\"]\ndecimals1 = 2    \ndf3['Height (in)'] = df3['Height (in)'].apply(lambda x: round(x, decimals1))\ndf_ncdrisc = df3.drop(['Mean height (cm)'], axis=1)",
            "execution_count": 19,
            "outputs": []
        },
        {
            "metadata": {},
            "cell_type": "code",
            "source": "",
            "execution_count": null,
            "outputs": []
        }
    ],
    "metadata": {
        "kernelspec": {
            "name": "python3",
            "display_name": "Python 3.6",
            "language": "python"
        },
        "language_info": {
            "name": "python",
            "version": "3.6.9",
            "mimetype": "text/x-python",
            "codemirror_mode": {
                "name": "ipython",
                "version": 3
            },
            "pygments_lexer": "ipython3",
            "nbconvert_exporter": "python",
            "file_extension": ".py"
        }
    },
    "nbformat": 4,
    "nbformat_minor": 1
}